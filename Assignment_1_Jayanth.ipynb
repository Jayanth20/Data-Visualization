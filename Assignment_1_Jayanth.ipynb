{
  "cells": [
    {
      "cell_type": "markdown",
      "metadata": {
        "id": "view-in-github",
        "colab_type": "text"
      },
      "source": [
        "<a href=\"https://colab.research.google.com/github/Jayanth20/Data-Visualization/blob/main/Assignment_1_Jayanth.ipynb\" target=\"_parent\"><img src=\"https://colab.research.google.com/assets/colab-badge.svg\" alt=\"Open In Colab\"/></a>"
      ]
    },
    {
      "cell_type": "markdown",
      "metadata": {
        "id": "m84Pc1zBRUVo"
      },
      "source": [
        "# Assignment 1: Dino Fun World\n",
        "\n",
        "### Assignment Description\n",
        "\n",
        "You, in your role as a data explorer and visualizer, have been asked by the administrators of a small amusement park in your hometown to answer a few questions about their park operations. The dataset that they provided for you to perform the requested analysis includes the movement and communication data captured from the park attendees' apps during one weekend (Friday, Saturday, and Sunday).\n",
        "\n",
        "The administrators would like you to answer four relatively simple questions about the park activities on the day in question. These questions all deal with park operations and can be answered using the data provided.\n",
        "* **Question 1:** What is the most popular attraction to visit in the park?\n",
        "\n",
        "\n",
        "* **Question 2:** What ride (note that not all attractions are rides) has the longest average visit time?\n",
        "\n",
        "\n",
        "* **Question 3:** Which Fast Food offering has the fewest visitors?\n",
        "\n",
        "\n",
        "* **Question 4:** Compute the Skyline of number of visits and visit time for the park's ride, and report the rides that appear in the Skyline. (Note: Your answer should be three points, which can be given in any order.)\n",
        "\n",
        "\n",
        "### Directions\n",
        "\n",
        "The database provided by the park administration is formatted to be readable by any SQL database library. The course staff recommends the sqlite3 library. The database contains three tables, named 'checkin', 'attractions', and 'sequences'. The database file is named 'dinofunworld.db' .\n",
        "\n",
        "The information contained in each of these tables is listed below:\n",
        "\n",
        "`checkin`:\n",
        "    - The check-in data for all visitors for the day in the park. The data includes two types of check-ins: inferred and actual checkins.\n",
        "    - Fields: visitorID, timestamp, attraction, duration, type\n",
        "\n",
        "`attraction`:\n",
        "    - The attractions in the park by their corresponding AttractionID, Name, Region, Category, and type. Regions are from the VAST Challenge map such as Coaster Alley, Tundra Land, etc. Categories include Thrill rides, Kiddie Rides, etc. Type is broken into Outdoor Coaster, Other Ride, Carousel, etc.\n",
        "    - Fields: AttractionID, Name, Region, Category, type\n",
        "    \n",
        "`sequences`:\n",
        "    - The check-in sequences of visitors. These sequences list the position of each visitor to the park every five minutes. If the visitor has not entered the part yet, the sequence has a value of 0 for that time interval. If the visitor is in the park, the sequence lists the attraction they have most recently checked in to until they check in to a new one or leave the park.\n",
        "    - Fields: visitorID, sequence\n",
        "    \n",
        "Using the provided data, answer the four questions that the administrators have asked.\n",
        "\n",
        "### Submission Directions for Assignment Deliverables\n",
        "\n",
        "This assignment will be auto-graded. We recommend that you submit this assignment. In order for your answers to be correctly registered in the system, you must place the code for your answers in the cell indicated for each question. In addition, you should submit the assignment with the output of the code in the cell's display area. The display area should contain only your answer to the question with no extraneous information, or else the answer may not be picked up correctly. \n",
        "\n",
        "Each cell that is going to be graded has a set of comment lines at the beginning of the cell. These lines are extremely important and must not be modified or removed. \n",
        "\n",
        "Please execute each cell in Jupyter Notebook before submitting.\n",
        "\n",
        "\n"
      ]
    },
    {
      "cell_type": "code",
      "source": [
        "import sqlite3\n",
        "from collections import Counter\n",
        "import pandas as pd\n",
        "from datetime import timedelta\n",
        "import operator\n"
      ],
      "metadata": {
        "id": "6OGrmlApGzC3"
      },
      "execution_count": null,
      "outputs": []
    },
    {
      "cell_type": "code",
      "source": [
        "from google.colab import drive\n",
        "drive.mount('/content/gdrive')"
      ],
      "metadata": {
        "colab": {
          "base_uri": "https://localhost:8080/"
        },
        "id": "3yYtbcWmHkQl",
        "outputId": "66672dff-8a63-4f17-9258-3c8913981313"
      },
      "execution_count": null,
      "outputs": [
        {
          "output_type": "stream",
          "name": "stdout",
          "text": [
            "Mounted at /content/gdrive\n"
          ]
        }
      ]
    },
    {
      "cell_type": "code",
      "source": [
        "db_path = '/content/gdrive/MyDrive/DV/dinofunworld.db'"
      ],
      "metadata": {
        "id": "6nLf6pWuH6O3"
      },
      "execution_count": null,
      "outputs": []
    },
    {
      "cell_type": "markdown",
      "metadata": {
        "id": "oynZfGSiRUVs"
      },
      "source": [
        "### Question 1: \n",
        "What is the most popular attraction to visit in the park?\n",
        "\n",
        "**Note:** Your output should be the name of the attraction."
      ]
    },
    {
      "cell_type": "code",
      "execution_count": null,
      "metadata": {
        "scrolled": false,
        "colab": {
          "base_uri": "https://localhost:8080/"
        },
        "id": "RqJeJZ7ARUVv",
        "outputId": "6b977b33-fbe3-4c40-a0c7-3405960bf2e2"
      },
      "outputs": [
        {
          "output_type": "stream",
          "name": "stdout",
          "text": [
            "The most popular attraction is: Atmosfear\n"
          ]
        }
      ],
      "source": [
        "# your code here for Q1\n",
        "import sqlite3\n",
        "conn = sqlite3.connect(db_path)\n",
        "cursor = conn.cursor()\n",
        "\n",
        "query = \"SELECT name, COUNT(*) as count FROM checkin INNER JOIN attraction ON checkin.attraction = attraction.AttractionID GROUP BY attraction ORDER BY count DESC LIMIT 1\"\n",
        "cursor.execute(query)\n",
        "print(\"The most popular attraction is:\", cursor.fetchone()[0])\n",
        "\n",
        "# conn.close()\n"
      ]
    },
    {
      "cell_type": "markdown",
      "metadata": {
        "id": "KQ4ZmPRORUVv"
      },
      "source": [
        "### Question 2: \n",
        "\n",
        "What ride (note that not all attractions are rides) has the  longest average visit time?\n",
        "\n",
        "**Note:** Your output should be the name of the ride.\n"
      ]
    },
    {
      "cell_type": "code",
      "execution_count": null,
      "metadata": {
        "colab": {
          "base_uri": "https://localhost:8080/"
        },
        "id": "bKmOiyFORUVw",
        "outputId": "93ebca4c-533d-4d6c-a20c-6b78cc5a46b2"
      },
      "outputs": [
        {
          "output_type": "stream",
          "name": "stdout",
          "text": [
            "Ride with Longest visit time is:  TerrorSaur\n"
          ]
        }
      ],
      "source": [
        "# your code here for Q2\n",
        "query = \"SELECT AttractionID, Name FROM attraction where LOWER(Category) LIKE '%ride%';\"\n",
        "cursor.execute(query)\n",
        "attractions = cursor.fetchall()\n",
        "time = (\"\", 0)\n",
        "for (attr_id, name) in attractions:\n",
        "    cursor.execute(\"SELECT duration FROM checkin where attraction=\"+str(attr_id)+\";\")\n",
        "    duration_list = cursor.fetchall()\n",
        "    total = 0\n",
        "    count = 0\n",
        "    for duration in duration_list:\n",
        "        try:\n",
        "            d = duration[0].split(':')\n",
        "            total += timedelta(hours=int(d[0]), minutes=int(d[1]), seconds =int(d[2])).total_seconds()\n",
        "            count += 1\n",
        "        except:\n",
        "            continue\n",
        "    avgd = total / count\n",
        "    if avgd > time[1]:\n",
        "        time = (name, avgd)\n",
        "print(\"Ride with Longest visit time is: \",time[0])"
      ]
    },
    {
      "cell_type": "markdown",
      "metadata": {
        "id": "z26QOUVPRUVy"
      },
      "source": [
        "### Question 3:\n",
        "\n",
        "Which Fast Food offering in the park has the fewest visitors?\n",
        "\n",
        "**Note:** Your output should be the name of the fast food offering."
      ]
    },
    {
      "cell_type": "code",
      "execution_count": null,
      "metadata": {
        "colab": {
          "base_uri": "https://localhost:8080/"
        },
        "id": "BXZuu5oDRUVz",
        "outputId": "841a9012-2489-4c9d-ac94-6a3273dd85e9"
      },
      "outputs": [
        {
          "output_type": "stream",
          "name": "stdout",
          "text": [
            "Fast Food offering which has the fewest visitors:  Theresaur Food Stop\n"
          ]
        }
      ],
      "source": [
        "# your code here for Q3\n",
        "\n",
        "query = \"SELECT name FROM attraction, checkin WHERE attraction.attractionid = checkin.attraction and attraction.type='Fast Food' GROUP BY name order by count(*) asc limit 1\"\n",
        "cursor.execute(query)\n",
        "print('Fast Food offering which has the fewest visitors: ', cursor.fetchone()[0])\n"
      ]
    },
    {
      "cell_type": "markdown",
      "metadata": {
        "id": "HcqLMiqpRUV0"
      },
      "source": [
        "### Question 4:\n",
        "\n",
        "Compute the Skyline of number of visits and visit time for the park's ride and report the rides that appear in the Skyline. \n",
        "\n",
        "**Note:** Remember that in this case, higher visits is better and lower visit times are better. Your output should be formatted as a list of names of the rides in the Skyline. Your output should be three points, which can be given in any order(example output : ['Ride 1','Ride 2','Ride 3'] )\n"
      ]
    },
    {
      "cell_type": "code",
      "execution_count": null,
      "metadata": {
        "colab": {
          "base_uri": "https://localhost:8080/"
        },
        "id": "ebEWpluyRUV1",
        "outputId": "343c8aa3-d20c-4296-df2c-c88f7ac94b98"
      },
      "outputs": [
        {
          "output_type": "stream",
          "name": "stdout",
          "text": [
            "['Wrightiraptor Mountain', 'Atmosfear', 'Dykesadactyl Thrill']\n"
          ]
        }
      ],
      "source": [
        "# your code here for Q4\n",
        "\n",
        "# Get all the attraction IDs for rides\n",
        "cursor.execute(\"SELECT attractionid from attraction WHERE LOWER(category) like LOWER('%ride%')\")\n",
        "\n",
        "rides = {}\n",
        "for i in cursor.fetchall():\n",
        "    ride_id = i[0]\n",
        "    cursor.execute(\"SELECT duration FROM checkin WHERE attraction=\" + str(ride_id))\n",
        "    \n",
        "    duration = 0    \n",
        "    for j in cursor.fetchall():\n",
        "        visited_count = 0\n",
        "        try:\n",
        "            duration += timedelta(int(j[0].split(':')[0]), int(j[0].split(':')[1]), int(j[0].split(':')[2])).total_seconds()\n",
        "            visited_count += 1\n",
        "        except:\n",
        "            pass\n",
        "    \n",
        "    rides[ride_id] = [duration]\n",
        "    \n",
        "    cursor.execute(\"SELECT count(*) FROM checkin WHERE attraction=\" + str(ride_id))\n",
        "    num_checkins = cursor.fetchone()[0]\n",
        "    rides[ride_id].append(num_checkins)\n",
        "    \n",
        "visited = list(rides.keys())[0]\n",
        "# print(rides.keys())\n",
        "# print(visited)\n",
        "# print(rides)\n",
        "\n",
        "# Find the ride with the shortest average duration\n",
        "# Find the ride with the most check-ins\n",
        "# Find the ride that is the best balance of short wait time and high popularity\n",
        "waiting, all = visited, visited\n",
        "\n",
        "for ride in rides:\n",
        "    if rides[ride][0] < rides[waiting][0]:\n",
        "        waiting = ride\n",
        "    if rides[ride][1] > rides[visited][1]:\n",
        "        visited = ride\n",
        "    if (rides[ride][0] < rides[all][0]) and (rides[ride][1] > rides[all][1]):\n",
        "        all = ride\n",
        "        \n",
        "# Get the names of the rides\n",
        "cursor.execute(\"SELECT name FROM attraction WHERE attractionid in (\" + str(visited) + \",\" + str(waiting) + \",\" + str(all) + \")\")\n",
        "attractions = cursor.fetchall()\n",
        "print([attr[0] for attr in attractions])\n",
        "\n"
      ]
    },
    {
      "cell_type": "code",
      "source": [
        "conn.close()"
      ],
      "metadata": {
        "id": "-SisrJQvqu3c"
      },
      "execution_count": null,
      "outputs": []
    },
    {
      "cell_type": "code",
      "source": [],
      "metadata": {
        "id": "_gyZ1usrqyuR"
      },
      "execution_count": null,
      "outputs": []
    }
  ],
  "metadata": {
    "kernelspec": {
      "display_name": "Python 3",
      "language": "python",
      "name": "python3"
    },
    "language_info": {
      "codemirror_mode": {
        "name": "ipython",
        "version": 3
      },
      "file_extension": ".py",
      "mimetype": "text/x-python",
      "name": "python",
      "nbconvert_exporter": "python",
      "pygments_lexer": "ipython3",
      "version": "3.6.5"
    },
    "colab": {
      "provenance": [],
      "include_colab_link": true
    }
  },
  "nbformat": 4,
  "nbformat_minor": 0
}